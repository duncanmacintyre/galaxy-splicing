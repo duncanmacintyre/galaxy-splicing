{
 "cells": [
  {
   "cell_type": "code",
   "execution_count": 1,
   "id": "2d21d85a",
   "metadata": {},
   "outputs": [],
   "source": [
    "import pandas\n",
    "import matplotlib.pyplot as plt\n",
    "import numpy as np"
   ]
  },
  {
   "cell_type": "code",
   "execution_count": 12,
   "id": "84347cd5",
   "metadata": {},
   "outputs": [
    {
     "data": {
      "text/html": [
       "<div>\n",
       "<style scoped>\n",
       "    .dataframe tbody tr th:only-of-type {\n",
       "        vertical-align: middle;\n",
       "    }\n",
       "\n",
       "    .dataframe tbody tr th {\n",
       "        vertical-align: top;\n",
       "    }\n",
       "\n",
       "    .dataframe thead th {\n",
       "        text-align: right;\n",
       "    }\n",
       "</style>\n",
       "<table border=\"1\" class=\"dataframe\">\n",
       "  <thead>\n",
       "    <tr style=\"text-align: right;\">\n",
       "      <th></th>\n",
       "      <th>t</th>\n",
       "      <th>expected</th>\n",
       "      <th>SFR</th>\n",
       "      <th>M* per step</th>\n",
       "      <th>M* this step</th>\n",
       "    </tr>\n",
       "  </thead>\n",
       "  <tbody>\n",
       "    <tr>\n",
       "      <th>0</th>\n",
       "      <td>0.000000</td>\n",
       "      <td>0.000000e+00</td>\n",
       "      <td>0.000000</td>\n",
       "      <td>0.000000</td>\n",
       "      <td>0.0</td>\n",
       "    </tr>\n",
       "    <tr>\n",
       "      <th>1</th>\n",
       "      <td>0.000977</td>\n",
       "      <td>1.505910e-05</td>\n",
       "      <td>0.157719</td>\n",
       "      <td>0.157669</td>\n",
       "      <td>0.0</td>\n",
       "    </tr>\n",
       "    <tr>\n",
       "      <th>2</th>\n",
       "      <td>0.001953</td>\n",
       "      <td>4.168010e-06</td>\n",
       "      <td>0.042581</td>\n",
       "      <td>0.043639</td>\n",
       "      <td>0.0</td>\n",
       "    </tr>\n",
       "    <tr>\n",
       "      <th>3</th>\n",
       "      <td>0.002441</td>\n",
       "      <td>7.864480e-08</td>\n",
       "      <td>0.044228</td>\n",
       "      <td>0.001647</td>\n",
       "      <td>0.0</td>\n",
       "    </tr>\n",
       "    <tr>\n",
       "      <th>4</th>\n",
       "      <td>0.002930</td>\n",
       "      <td>5.439130e-06</td>\n",
       "      <td>0.061135</td>\n",
       "      <td>0.113896</td>\n",
       "      <td>0.0</td>\n",
       "    </tr>\n",
       "    <tr>\n",
       "      <th>...</th>\n",
       "      <td>...</td>\n",
       "      <td>...</td>\n",
       "      <td>...</td>\n",
       "      <td>...</td>\n",
       "      <td>...</td>\n",
       "    </tr>\n",
       "    <tr>\n",
       "      <th>523</th>\n",
       "      <td>0.496094</td>\n",
       "      <td>8.194780e-05</td>\n",
       "      <td>0.736108</td>\n",
       "      <td>0.857998</td>\n",
       "      <td>0.0</td>\n",
       "    </tr>\n",
       "    <tr>\n",
       "      <th>524</th>\n",
       "      <td>0.497070</td>\n",
       "      <td>5.757480e-05</td>\n",
       "      <td>0.735488</td>\n",
       "      <td>0.602811</td>\n",
       "      <td>0.0</td>\n",
       "    </tr>\n",
       "    <tr>\n",
       "      <th>525</th>\n",
       "      <td>0.498047</td>\n",
       "      <td>8.301250e-05</td>\n",
       "      <td>0.736174</td>\n",
       "      <td>0.869145</td>\n",
       "      <td>0.0</td>\n",
       "    </tr>\n",
       "    <tr>\n",
       "      <th>526</th>\n",
       "      <td>0.499023</td>\n",
       "      <td>5.643560e-05</td>\n",
       "      <td>0.735228</td>\n",
       "      <td>0.590884</td>\n",
       "      <td>0.0</td>\n",
       "    </tr>\n",
       "    <tr>\n",
       "      <th>527</th>\n",
       "      <td>0.500000</td>\n",
       "      <td>8.433110e-05</td>\n",
       "      <td>0.737149</td>\n",
       "      <td>0.882951</td>\n",
       "      <td>0.0</td>\n",
       "    </tr>\n",
       "  </tbody>\n",
       "</table>\n",
       "<p>528 rows × 5 columns</p>\n",
       "</div>"
      ],
      "text/plain": [
       "            t      expected       SFR  M* per step  M* this step\n",
       "0    0.000000  0.000000e+00  0.000000     0.000000           0.0\n",
       "1    0.000977  1.505910e-05  0.157719     0.157669           0.0\n",
       "2    0.001953  4.168010e-06  0.042581     0.043639           0.0\n",
       "3    0.002441  7.864480e-08  0.044228     0.001647           0.0\n",
       "4    0.002930  5.439130e-06  0.061135     0.113896           0.0\n",
       "..        ...           ...       ...          ...           ...\n",
       "523  0.496094  8.194780e-05  0.736108     0.857998           0.0\n",
       "524  0.497070  5.757480e-05  0.735488     0.602811           0.0\n",
       "525  0.498047  8.301250e-05  0.736174     0.869145           0.0\n",
       "526  0.499023  5.643560e-05  0.735228     0.590884           0.0\n",
       "527  0.500000  8.433110e-05  0.737149     0.882951           0.0\n",
       "\n",
       "[528 rows x 5 columns]"
      ]
     },
     "execution_count": 12,
     "metadata": {},
     "output_type": "execute_result"
    }
   ],
   "source": [
    "df = pandas.read_csv('sfr.txt', sep=' ', names=('t', 'expected', 'SFR', 'M* per step', 'M* this step'))\n",
    "df"
   ]
  },
  {
   "cell_type": "code",
   "execution_count": 17,
   "id": "b27cfcc7",
   "metadata": {},
   "outputs": [
    {
     "data": {
      "image/png": "[encoded data removed]",
      "text/plain": [
       "<Figure size 432x288 with 1 Axes>"
      ]
     },
     "metadata": {
      "needs_background": "light"
     },
     "output_type": "display_data"
    }
   ],
   "source": [
    "fig = plt.figure()\n",
    "ax = plt.axes()\n",
    "df.plot('t', 'SFR', ax=ax)\n",
    "fig.savefig('sfr.pdf')"
   ]
  },
  {
   "cell_type": "code",
   "execution_count": null,
   "id": "c3e2b64c",
   "metadata": {},
   "outputs": [],
   "source": []
  }
 ],
 "metadata": {
  "kernelspec": {
   "display_name": "Python 3",
   "language": "python",
   "name": "python3"
  },
  "language_info": {
   "codemirror_mode": {
    "name": "ipython",
    "version": 3
   },
   "file_extension": ".py",
   "mimetype": "text/x-python",
   "name": "python",
   "nbconvert_exporter": "python",
   "pygments_lexer": "ipython3",
   "version": "3.7.10"
  }
 },
 "nbformat": 4,
 "nbformat_minor": 5
}
