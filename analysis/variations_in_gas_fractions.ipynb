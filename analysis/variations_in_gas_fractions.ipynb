{
 "cells": [
  {
   "cell_type": "code",
   "execution_count": 1,
   "metadata": {},
   "outputs": [],
   "source": [
    "import numpy as np"
   ]
  },
  {
   "cell_type": "code",
   "execution_count": 2,
   "metadata": {},
   "outputs": [],
   "source": [
    "gas_masses = np.array([12, 11.2, 6.7, 8.4, 4.8, 3.4, 1.6, 4.4, 2.2, 2.2, 3.1, 3.3, 1.2, 1.0])\n",
    "gas_masses *= 1e10"
   ]
  },
  {
   "cell_type": "code",
   "execution_count": 3,
   "metadata": {},
   "outputs": [
    {
     "data": {
      "text/plain": [
       "array([1.20e+11, 1.12e+11, 6.70e+10, 8.40e+10, 4.80e+10, 3.40e+10,\n",
       "       1.60e+10, 4.40e+10, 2.20e+10, 2.20e+10, 3.10e+10, 3.30e+10,\n",
       "       1.20e+10, 1.00e+10])"
      ]
     },
     "execution_count": 3,
     "metadata": {},
     "output_type": "execute_result"
    }
   ],
   "source": [
    "gas_masses"
   ]
  },
  {
   "cell_type": "code",
   "execution_count": 4,
   "metadata": {},
   "outputs": [],
   "source": [
    "def stellar_masses(f_gas):\n",
    "    return (1.0 / f_gas - 1.0) * gas_masses"
   ]
  },
  {
   "cell_type": "code",
   "execution_count": 8,
   "metadata": {},
   "outputs": [
    {
     "name": "stdout",
     "output_type": "stream",
     "text": [
      "Total stellar mass at f_gas = 0.6: 4.36667e+11 Msun\n"
     ]
    }
   ],
   "source": [
    "print('Total stellar mass at f_gas = 0.6: %g Msun' % np.sum(stellar_masses(0.6)))"
   ]
  },
  {
   "cell_type": "code",
   "execution_count": 9,
   "metadata": {},
   "outputs": [
    {
     "name": "stdout",
     "output_type": "stream",
     "text": [
      "Total stellar mass at f_gas = 0.7: 2.80714e+11 Msun\n"
     ]
    }
   ],
   "source": [
    "print('Total stellar mass at f_gas = 0.7: %g Msun' % np.sum(stellar_masses(0.7)))"
   ]
  },
  {
   "cell_type": "code",
   "execution_count": 10,
   "metadata": {},
   "outputs": [
    {
     "name": "stdout",
     "output_type": "stream",
     "text": [
      "Total stellar mass at f_gas = 0.8: 1.6375e+11 Msun\n"
     ]
    }
   ],
   "source": [
    "print('Total stellar mass at f_gas = 0.8: %g Msun' % np.sum(stellar_masses(0.8)))"
   ]
  },
  {
   "cell_type": "code",
   "execution_count": 14,
   "metadata": {},
   "outputs": [],
   "source": [
    "def virial_masses(f_gas, m_star_ratio):\n",
    "    return np.sum(stellar_masses(f_gas)) / m_star_ratio"
   ]
  },
  {
   "cell_type": "code",
   "execution_count": 21,
   "metadata": {},
   "outputs": [
    {
     "name": "stdout",
     "output_type": "stream",
     "text": [
      "f_gas = 0.6, alpha = 0.050, Mvir = 8.73333e+12 Msun, Mstar = 4.36667e+11 Msun\n",
      "f_gas = 0.6, alpha = 0.010, Mvir = 4.36667e+13 Msun, Mstar = 4.36667e+11 Msun\n",
      "f_gas = 0.6, alpha = 0.020, Mvir = 2.18333e+13 Msun, Mstar = 4.36667e+11 Msun\n",
      "f_gas = 0.7, alpha = 0.050, Mvir = 5.61429e+12 Msun, Mstar = 2.80714e+11 Msun\n",
      "f_gas = 0.7, alpha = 0.010, Mvir = 2.80714e+13 Msun, Mstar = 2.80714e+11 Msun\n",
      "f_gas = 0.7, alpha = 0.020, Mvir = 1.40357e+13 Msun, Mstar = 2.80714e+11 Msun\n",
      "f_gas = 0.8, alpha = 0.050, Mvir = 3.275e+12 Msun, Mstar = 1.6375e+11 Msun\n",
      "f_gas = 0.8, alpha = 0.010, Mvir = 1.6375e+13 Msun, Mstar = 1.6375e+11 Msun\n",
      "f_gas = 0.8, alpha = 0.020, Mvir = 8.1875e+12 Msun, Mstar = 1.6375e+11 Msun\n"
     ]
    }
   ],
   "source": [
    "for f_gas in [0.6, 0.7, 0.8]:\n",
    "    for alpha in [0.05, 0.01, 0.02]:\n",
    "        print('f_gas = %.1f, alpha = %.3f, Mvir = %g Msun, Mstar = %g Msun' \n",
    "              % (f_gas, alpha, virial_masses(f_gas, alpha), np.sum(stellar_masses(f_gas))))"
   ]
  },
  {
   "cell_type": "code",
   "execution_count": null,
   "metadata": {},
   "outputs": [],
   "source": []
  }
 ],
 "metadata": {
  "kernelspec": {
   "display_name": "Python 3",
   "language": "python",
   "name": "python3"
  },
  "language_info": {
   "codemirror_mode": {
    "name": "ipython",
    "version": 3
   },
   "file_extension": ".py",
   "mimetype": "text/x-python",
   "name": "python",
   "nbconvert_exporter": "python",
   "pygments_lexer": "ipython3",
   "version": "3.7.1"
  }
 },
 "nbformat": 4,
 "nbformat_minor": 2
}
