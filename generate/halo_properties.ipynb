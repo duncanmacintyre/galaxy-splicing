{
 "cells": [
  {
   "cell_type": "code",
   "execution_count": 2,
   "metadata": {},
   "outputs": [],
   "source": [
    "import numpy as np\n",
    "\n",
    "h = 0.7\n",
    "G = 4.302e-9 # Mpc (km/s)**2 M_sun**-1\n",
    "H0 = 100 # h km Mpc**-1 s**-1\n",
    "M_collapse = 8e12  # Msun h**-1\n",
    "redshift = 4.434\n",
    "omega_matter = 0.3\n",
    "omega_lambda = 0.7"
   ]
  },
  {
   "cell_type": "code",
   "execution_count": 26,
   "metadata": {},
   "outputs": [],
   "source": [
    "# H(z)\n",
    "def hubble_parameter():\n",
    "    return H0 * h * np.sqrt(omega_matter * (1.0 + redshift)**3  + omega_lambda)\n",
    "\n",
    "# Calculate the concentration expected at a redshift\n",
    "# From Roberston+06\n",
    "def halo_concentration(mass):\n",
    "    return 9.0 * (mass / (M_collapse * h))**(-0.13) / (1.0 + redshift)\n",
    "\n",
    "# Mass must be in Msun\n",
    "def mass_to_vel(mass):\n",
    "    # (mass / h) to follow Springel+05 Section 2.4\n",
    "    \n",
    "    return (10.0 * G * hubble_parameter() * (mass / h))**(1.0 / 3.0)\n",
    "\n",
    "def circular_velocity(mass):\n",
    "    return (mass / 102.329)**0.26178 * (hubble_parameter() / H0)**(1/3)\n",
    "\n",
    "def muratov_wind_vel(v_circ):\n",
    "    return 0.854 * v_circ**1.12\n",
    "\n",
    "def muratov_mass_loading(mass):\n",
    "    return 3.55 * (mass / 1e10)**(-0.351)\n",
    "\n",
    "def romeel_circ_vel(baryon_mass):\n",
    "    return (baryon_mass / 102.329)**0.26178 * (hubble_parameter() / (H0 * h))**(1 / 3)\n",
    "\n",
    "def romeel_wind_vel(circ_vel):\n",
    "    return 2.0 * (circ_vel / 200)**0.12 * circ_vel"
   ]
  },
  {
   "cell_type": "code",
   "execution_count": 4,
   "metadata": {},
   "outputs": [],
   "source": [
    "# In 1e10 Msun\n",
    "gas_masses = np.asarray([12, 11.2, 6.7, 8.4, 4.8, 3.4, 1.6, 4.4, 2.2, 2.2, 3.1, 3.3, 1.2, 1.0])\n",
    "gas_masses *= 1e10  # to actual Msun"
   ]
  },
  {
   "cell_type": "code",
   "execution_count": 5,
   "metadata": {},
   "outputs": [
    {
     "name": "stdout",
     "output_type": "stream",
     "text": [
      "Stellar masses in 1e10 units:\n",
      "\n",
      "5.143\n",
      "4.800\n",
      "2.871\n",
      "3.600\n",
      "2.057\n",
      "1.457\n",
      "0.686\n",
      "1.886\n",
      "0.943\n",
      "0.943\n",
      "1.329\n",
      "1.414\n",
      "0.514\n",
      "0.429\n"
     ]
    }
   ],
   "source": [
    "gas_frac = 0.7\n",
    "\n",
    "stellar_masses = (1.0 / gas_frac - 1.0) * gas_masses\n",
    "\n",
    "print('Stellar masses in 1e10 units:')\n",
    "print()\n",
    "\n",
    "for stellar_mass in stellar_masses:\n",
    "    print('%.3f' % float(stellar_mass / 1e10))"
   ]
  },
  {
   "cell_type": "code",
   "execution_count": 6,
   "metadata": {},
   "outputs": [
    {
     "name": "stdout",
     "output_type": "stream",
     "text": [
      "Halo masses in 1e10 units:\n",
      "\n",
      "514.286\n",
      "480.000\n",
      "287.143\n",
      "360.000\n",
      "205.714\n",
      "145.714\n",
      "68.571\n",
      "188.571\n",
      "94.286\n",
      "94.286\n",
      "132.857\n",
      "141.429\n",
      "51.429\n",
      "42.857\n"
     ]
    }
   ],
   "source": [
    "# 1e10 Msun\n",
    "halo_masses = stellar_masses * 100.0  # 100 factor from Behroozi et al. (2013) abundance matching for z ~ 4 - 5\n",
    "\n",
    "print('Halo masses in 1e10 units:')\n",
    "print()\n",
    "\n",
    "for halo_mass in halo_masses:\n",
    "    print('%.3f' % float(halo_mass / 1e10))"
   ]
  },
  {
   "cell_type": "code",
   "execution_count": 7,
   "metadata": {},
   "outputs": [
    {
     "data": {
      "text/plain": [
       "array([1.67467578, 1.68976363, 1.8064859 , 1.75415511, 1.88652663,\n",
       "       1.97302252, 2.17614938, 1.90798718, 2.08789836, 2.08789836,\n",
       "       1.99685845, 1.98069447, 2.25907547, 2.31325922])"
      ]
     },
     "execution_count": 7,
     "metadata": {},
     "output_type": "execute_result"
    }
   ],
   "source": [
    "concentrations = halo_concentration(halo_masses)\n",
    "concentrations"
   ]
  },
  {
   "cell_type": "code",
   "execution_count": 8,
   "metadata": {},
   "outputs": [
    {
     "name": "stdout",
     "output_type": "stream",
     "text": [
      "536.7227102815043\n",
      "524.5202152954802\n",
      "441.9581606747484\n",
      "476.5582422850822\n",
      "395.4606741425401\n",
      "352.5189995498747\n",
      "274.1971169790327\n",
      "384.15555306378286\n",
      "304.90446452643715\n",
      "304.90446452643715\n",
      "341.8299576355613\n",
      "349.02848316150977\n",
      "249.12461387890173\n",
      "234.43523734112125\n"
     ]
    }
   ],
   "source": [
    "velocities = mass_to_vel(halo_masses)\n",
    "for velocity in velocities:\n",
    "    print(velocity)"
   ]
  },
  {
   "cell_type": "code",
   "execution_count": 9,
   "metadata": {},
   "outputs": [
    {
     "name": "stdout",
     "output_type": "stream",
     "text": [
      "441.06764126069737\n",
      "433.1730454901621\n",
      "378.6578741644662\n",
      "401.749145794726\n",
      "347.0023864978458\n",
      "317.04994445003115\n",
      "260.2745232157458\n",
      "339.18776027449036\n",
      "282.9023401403068\n",
      "282.9023401403068\n",
      "309.4751590006811\n",
      "314.5818844755372\n",
      "241.39329180958984\n",
      "230.1426611361303\n",
      "Average circular velocity: 327.111 km/s\n"
     ]
    }
   ],
   "source": [
    "circ_vels = circular_velocity(gas_masses + stellar_masses)\n",
    "for circ_vel in circ_vels:\n",
    "    print(circ_vel)\n",
    "    \n",
    "print('Average circular velocity: %g km/s' % np.mean(circ_vels))"
   ]
  },
  {
   "cell_type": "code",
   "execution_count": 10,
   "metadata": {},
   "outputs": [
    {
     "name": "stdout",
     "output_type": "stream",
     "text": [
      "782.1745688551798\n",
      "766.511484390763\n",
      "659.3173465953854\n",
      "704.5104318063949\n",
      "597.9023050589107\n",
      "540.4068855234541\n",
      "433.25275141620523\n",
      "582.8420318604144\n",
      "475.65360802177463\n",
      "475.65360802177463\n",
      "525.9673198594902\n",
      "535.697507346891\n",
      "398.2081015056708\n",
      "377.4806175555523\n"
     ]
    }
   ],
   "source": [
    "wind_vels = muratov_wind_vel(circ_vels)\n",
    "for wind_vel in wind_vels:\n",
    "    print(wind_vel)"
   ]
  },
  {
   "cell_type": "code",
   "execution_count": 11,
   "metadata": {},
   "outputs": [
    {
     "data": {
      "text/plain": [
       "1.1012540241377462"
      ]
     },
     "execution_count": 11,
     "metadata": {},
     "output_type": "execute_result"
    }
   ],
   "source": [
    "mass_loading = muratov_mass_loading(np.sum(stellar_masses))\n",
    "mass_loading"
   ]
  },
  {
   "cell_type": "code",
   "execution_count": 12,
   "metadata": {},
   "outputs": [
    {
     "name": "stdout",
     "output_type": "stream",
     "text": [
      "Average wind velocity: 538.052 km/s\n",
      "Average mass loading: 1.10125\n"
     ]
    }
   ],
   "source": [
    "print('Average wind velocity: %g km/s' % np.median(wind_vels))\n",
    "print('Average mass loading: %g' % np.median(mass_loading))"
   ]
  },
  {
   "cell_type": "code",
   "execution_count": 13,
   "metadata": {},
   "outputs": [
    {
     "data": {
      "text/plain": [
       "0.042062069995242944"
      ]
     },
     "execution_count": 13,
     "metadata": {},
     "output_type": "execute_result"
    }
   ],
   "source": [
    "# 3.24e-20 Mpc/km, 3e7 s/yr, 1e9 yr/Gyr\n",
    "two_percent_hubble_time = 0.02 / (hubble_parameter() * 3.24e-20 * 3e7 * 1e9)\n",
    "two_percent_hubble_time"
   ]
  },
  {
   "cell_type": "code",
   "execution_count": 16,
   "metadata": {},
   "outputs": [
    {
     "data": {
      "text/plain": [
       "687.7851235899547"
      ]
     },
     "execution_count": 16,
     "metadata": {},
     "output_type": "execute_result"
    }
   ],
   "source": [
    "total_circ_vel = circular_velocity(np.sum(gas_masses) + np.sum(stellar_masses))\n",
    "total_circ_vel"
   ]
  },
  {
   "cell_type": "code",
   "execution_count": 15,
   "metadata": {},
   "outputs": [
    {
     "data": {
      "text/plain": [
       "1286.4857561141196"
      ]
     },
     "execution_count": 15,
     "metadata": {},
     "output_type": "execute_result"
    }
   ],
   "source": [
    "wind_vel = muratov_wind_vel(total_circ_vel)\n",
    "wind_vel"
   ]
  },
  {
   "cell_type": "code",
   "execution_count": 18,
   "metadata": {},
   "outputs": [
    {
     "name": "stdout",
     "output_type": "stream",
     "text": [
      "9.35714e+11 Msun\n"
     ]
    }
   ],
   "source": [
    "print('%g Msun' % float(np.sum(gas_masses) + np.sum(stellar_masses)))"
   ]
  },
  {
   "cell_type": "code",
   "execution_count": 28,
   "metadata": {},
   "outputs": [
    {
     "data": {
      "text/plain": [
       "774.61653764383"
      ]
     },
     "execution_count": 28,
     "metadata": {},
     "output_type": "execute_result"
    }
   ],
   "source": [
    "circ_vel_romeel = romeel_circ_vel(np.sum(gas_masses) + np.sum(stellar_masses))\n",
    "circ_vel_romeel"
   ]
  },
  {
   "cell_type": "code",
   "execution_count": 29,
   "metadata": {},
   "outputs": [
    {
     "data": {
      "text/plain": [
       "1822.5672942678343"
      ]
     },
     "execution_count": 29,
     "metadata": {},
     "output_type": "execute_result"
    }
   ],
   "source": [
    "wind_vel_romeel = romeel_wind_vel(circ_vel_romeel)\n",
    "wind_vel_romeel"
   ]
  },
  {
   "cell_type": "code",
   "execution_count": null,
   "metadata": {},
   "outputs": [],
   "source": []
  }
 ],
 "metadata": {
  "kernelspec": {
   "display_name": "Python 3",
   "language": "python",
   "name": "python3"
  },
  "language_info": {
   "codemirror_mode": {
    "name": "ipython",
    "version": 3
   },
   "file_extension": ".py",
   "mimetype": "text/x-python",
   "name": "python",
   "nbconvert_exporter": "python",
   "pygments_lexer": "ipython3",
   "version": "3.6.5"
  }
 },
 "nbformat": 4,
 "nbformat_minor": 2
}
